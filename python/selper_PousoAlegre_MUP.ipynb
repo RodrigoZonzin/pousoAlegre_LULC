{
  "nbformat": 4,
  "nbformat_minor": 0,
  "metadata": {
    "colab": {
      "provenance": [],
      "mount_file_id": "188-AODdbpl299CmXuZ4_I-N8XueL507s",
      "authorship_tag": "ABX9TyPGN0omTHkkgk84C9RuNHyK",
      "include_colab_link": true
    },
    "kernelspec": {
      "name": "python3",
      "display_name": "Python 3"
    },
    "language_info": {
      "name": "python"
    }
  },
  "cells": [
    {
      "cell_type": "markdown",
      "metadata": {
        "id": "view-in-github",
        "colab_type": "text"
      },
      "source": [
        "<a href=\"https://colab.research.google.com/github/RodrigoZonzin/pousoAlegre_LULC/blob/main/python/selper_PousoAlegre_MUP.ipynb\" target=\"_parent\"><img src=\"https://colab.research.google.com/assets/colab-badge.svg\" alt=\"Open In Colab\"/></a>"
      ]
    },
    {
      "cell_type": "code",
      "source": [
        "!pip install rasterio -q"
      ],
      "metadata": {
        "colab": {
          "base_uri": "https://localhost:8080/"
        },
        "id": "8ZR3oNMFuXyt",
        "outputId": "adfe01e8-0252-4b2e-cf74-2e98fb89ff02"
      },
      "execution_count": 1,
      "outputs": [
        {
          "output_type": "stream",
          "name": "stdout",
          "text": [
            "\u001b[2K     \u001b[90m━━━━━━━━━━━━━━━━━━━━━━━━━━━━━━━━━━━━━━━━\u001b[0m \u001b[32m21.5/21.5 MB\u001b[0m \u001b[31m19.3 MB/s\u001b[0m eta \u001b[36m0:00:00\u001b[0m\n",
            "\u001b[?25h"
          ]
        }
      ]
    },
    {
      "cell_type": "code",
      "execution_count": 4,
      "metadata": {
        "id": "syyJrnLDuWAO"
      },
      "outputs": [],
      "source": [
        "import rasterio as rio\n",
        "from rasterio.plot import show\n",
        "import numpy as np\n",
        "from rasterio.mask import mask\n",
        "from matplotlib.colors import ListedColormap\n",
        "#from matplotlib_scalebar.scalebar import ScaleBar\n",
        "from rasterio.plot import plotting_extent\n",
        "\n",
        "import os\n",
        "import geopandas as gpd\n",
        "import matplotlib.pyplot as plt\n",
        "import pandas as pd"
      ]
    },
    {
      "cell_type": "code",
      "source": [
        "values_list = [0, 1, 2, 3, 4, 5]\n",
        "colors_list = ['white','#006400', '#aa0000', '#FFFFB2', '#0000FF', '#e993fa']\n",
        "cmap = ListedColormap(colors_list, name='custom_cmap', N=len(colors_list))"
      ],
      "metadata": {
        "id": "H445qlsQuaIO"
      },
      "execution_count": 3,
      "outputs": []
    },
    {
      "cell_type": "code",
      "source": [
        "with rio.open('/content/drive/MyDrive/selper_pousoAlegre/LULC_pousoAlegre_1993PORFAVOR.tif') as src:\n",
        "    img1993 = src.read()\n",
        "    raster_meta1993 = src.meta\n",
        "\n",
        "with rio.open('/content/drive/MyDrive/selper_pousoAlegre/LULC_pousoAlegre_2004PORFAVOR.tif') as src:\n",
        "    img2004 = src.read()\n",
        "    raster_meta2004 = src.meta\n",
        "\n",
        "with rio.open('/content/drive/MyDrive/selper_pousoAlegre/LULC_pousoAlegre_2014NovoBom.tif') as src:\n",
        "    img2014 = src.read()\n",
        "    raster_meta2014 = src.meta\n",
        "\n",
        "with rio.open('/content/drive/MyDrive/selper_pousoAlegre/LULC_pousoAlegre_2024.tif') as src:\n",
        "    img2024 = src.read()\n",
        "    raster_meta2024 = src.meta"
      ],
      "metadata": {
        "id": "68Ds7C1Yues0"
      },
      "execution_count": 16,
      "outputs": []
    },
    {
      "cell_type": "code",
      "source": [
        "img1993_path = '/content/drive/MyDrive/selper_pousoAlegre/LULC_pousoAlegre_1993PORFAVOR.tif'\n",
        "img2004_path = '/content/drive/MyDrive/selper_pousoAlegre/LULC_pousoAlegre_2004PORFAVOR.tif'\n",
        "img2014_path = '/content/drive/MyDrive/selper_pousoAlegre/LULC_pousoAlegre_2014NovoBom.tif'\n",
        "img2024_path = '/content/drive/MyDrive/selper_pousoAlegre/LULC_pousoAlegre_2024.tif'"
      ],
      "metadata": {
        "id": "dGvqB1iAxbLy"
      },
      "execution_count": 19,
      "outputs": []
    },
    {
      "cell_type": "code",
      "source": [
        "# Read the shapefile\n",
        "MUP = gpd.read_file('/content/drive/MyDrive/selper_pousoAlegre/MUP_pousoAlegre/pousoAlegreMUP.shp')"
      ],
      "metadata": {
        "id": "gYIhkHofw-md"
      },
      "execution_count": 13,
      "outputs": []
    },
    {
      "cell_type": "code",
      "source": [
        "def clip_image(image_path, MUP):\n",
        "    with rio.open(image_path) as src:\n",
        "        raster_meta = src.meta\n",
        "        MUP = MUP.to_crs(raster_meta['crs'])\n",
        "        shapes = [feature[\"geometry\"] for feature in MUP.__geo_interface__['features']]\n",
        "\n",
        "        out_image, out_transform = mask(src, shapes, crop=True)\n",
        "        out_meta = raster_meta.copy()\n",
        "        out_meta.update({\n",
        "            \"driver\": \"GTiff\",\n",
        "            \"height\": out_image.shape[1],\n",
        "            \"width\": out_image.shape[2],\n",
        "            \"transform\": out_transform\n",
        "        })\n",
        "\n",
        "    return out_image\n"
      ],
      "metadata": {
        "id": "_w5wRhXGvPD3"
      },
      "execution_count": 29,
      "outputs": []
    },
    {
      "cell_type": "code",
      "source": [
        "imgs = []\n",
        "for img_path in [img1993_path, img2004_path, img2014_path, img2024_path]:\n",
        "  imgs.append(clip_image(img_path, MUP))"
      ],
      "metadata": {
        "id": "cQLmLKsvvRtf"
      },
      "execution_count": 33,
      "outputs": []
    },
    {
      "cell_type": "code",
      "source": [
        "def plotSideBySide(num_x, num_y, imagens, title):\n",
        "    fig, axs = plt.subplots(num_x, num_y, figsize = (10,10))\n",
        "\n",
        "    for i, ax in enumerate(axs.flat):\n",
        "                ax.imshow(np.squeeze(imagens[i]), cmap = cmap)\n",
        "                ax.set_title(title[i])\n",
        "                ax.axis('off')\n",
        "\n",
        "    plt.tight_layout()\n",
        "    plt.show()"
      ],
      "metadata": {
        "id": "G66t_ogsx0hU"
      },
      "execution_count": 35,
      "outputs": []
    },
    {
      "cell_type": "code",
      "source": [
        "plotSideBySide(1, 4, imgs, ['MUP LULC 1993', 'MUP LULC 2004', 'MUP LULC 2014', 'MUP LULC 2024'])"
      ],
      "metadata": {
        "colab": {
          "base_uri": "https://localhost:8080/",
          "height": 361
        },
        "id": "V0MteUBDyU-Z",
        "outputId": "1c64f40c-8d28-4509-ed87-69349fa2b7ef"
      },
      "execution_count": 36,
      "outputs": [
        {
          "output_type": "display_data",
          "data": {
            "text/plain": [
              "<Figure size 1000x1000 with 4 Axes>"
            ],
            "image/png": "[encoded data removed]"
          },
          "metadata": {}
        }
      ]
    },
    {
      "cell_type": "code",
      "source": [
        "def calcArea(img):\n",
        "  img = img[0]\n",
        "  forest_area = 0\n",
        "  urban_area = 0\n",
        "  pasture_area = 0\n",
        "  water_area = 0\n",
        "  soil_area = 0\n",
        "\n",
        "  #30m x 30m = 0,003 km * 0,003 km\n",
        "  pixel_area = (30/1000)**2\n",
        "\n",
        "  for linha in img:\n",
        "    for elemento in linha:\n",
        "      if elemento == 1:\n",
        "        forest_area += pixel_area\n",
        "\n",
        "      elif elemento == 2:\n",
        "        urban_area += pixel_area\n",
        "\n",
        "      elif elemento == 3:\n",
        "        pasture_area += pixel_area\n",
        "\n",
        "      elif elemento == 4:\n",
        "        water_area += pixel_area\n",
        "\n",
        "      elif elemento == 5:\n",
        "        soil_area += pixel_area\n",
        "\n",
        "  return ({'forest': forest_area, 'urban': urban_area, 'pasture': pasture_area, 'water': water_area, 'soil': soil_area})\n"
      ],
      "metadata": {
        "id": "t28Uuhl1yiGs"
      },
      "execution_count": 37,
      "outputs": []
    },
    {
      "cell_type": "code",
      "source": [
        "dados = pd.DataFrame(columns = ['img1993', 'img2004'])"
      ],
      "metadata": {
        "id": "xk3VpX8IykjE"
      },
      "execution_count": 38,
      "outputs": []
    },
    {
      "cell_type": "code",
      "source": [
        "dados['img1993'] = calcArea(imgs[0])\n",
        "dados['img2004'] = calcArea(imgs[1])\n",
        "dados['img2014'] = calcArea(imgs[2])\n",
        "dados['img2024'] = calcArea(imgs[3])"
      ],
      "metadata": {
        "id": "RryBH1uWyl-U"
      },
      "execution_count": 39,
      "outputs": []
    },
    {
      "cell_type": "code",
      "source": [
        "dadosDiferenca = pd.DataFrame()\n",
        "dadosDiferenca['2024vs1993'] = dados['img2024'] - dados['img1993']\n",
        "dadosDiferenca['2024vs1993pp'] = ((dados['img2024']/dados['img1993'])-1)*100"
      ],
      "metadata": {
        "id": "Lkjgi3xGyvgO"
      },
      "execution_count": 43,
      "outputs": []
    },
    {
      "cell_type": "code",
      "source": [
        "dadosDiferenca['2004vs1993'] = dados['img2004'] - dados['img1993']\n",
        "dadosDiferenca['2004vs1993pp'] = ((dados['img2004']/dados['img1993'])-1)*100"
      ],
      "metadata": {
        "id": "USZ1q6m_7Yh9"
      },
      "execution_count": 44,
      "outputs": []
    },
    {
      "cell_type": "code",
      "source": [
        "dadosDiferenca['2014vs2004'] = dados['img2014'] - dados['img2004']\n",
        "dadosDiferenca['2014vs2004pp'] = ((dados['img2014']/dados['img2004'])-1)*100"
      ],
      "metadata": {
        "id": "iePAr8og7bzt"
      },
      "execution_count": 45,
      "outputs": []
    },
    {
      "cell_type": "code",
      "source": [
        "dadosDiferenca['2024vs2014'] = dados['img2024'] - dados['img2014']\n",
        "dadosDiferenca['2024vs2014pp'] = ((dados['img2024']/dados['img2014'])-1)*100"
      ],
      "metadata": {
        "id": "V-adwkDd7dic"
      },
      "execution_count": 46,
      "outputs": []
    },
    {
      "cell_type": "code",
      "source": [
        "dadosDiferenca"
      ],
      "metadata": {
        "colab": {
          "base_uri": "https://localhost:8080/",
          "height": 226
        },
        "id": "RrSiSjmJ7ebq",
        "outputId": "b270a99f-f07d-414e-b50c-c8f854301652"
      },
      "execution_count": 47,
      "outputs": [
        {
          "output_type": "execute_result",
          "data": {
            "text/plain": [
              "         2024vs1993  2024vs1993pp  2004vs1993  2004vs1993pp  2014vs2004  \\\n",
              "forest       1.2852     15.406193     -1.9557    -23.443737      0.9045   \n",
              "urban       11.6496    129.427057      6.2388     69.313069      2.0331   \n",
              "pasture    -12.6036    -35.708093     -5.2938    -14.998215     -2.4228   \n",
              "water        0.5301     56.743738      0.5589     59.826590     -0.3042   \n",
              "soil        -0.8613    -40.932421      0.4509     21.428571     -0.2097   \n",
              "\n",
              "         2014vs2004pp  2024vs2014  2024vs2014pp  \n",
              "forest      14.162909      2.3364     32.045426  \n",
              "urban       13.340814      3.3777     19.555023  \n",
              "pasture     -8.075354     -4.8870    -17.719619  \n",
              "water      -20.373719      0.2754     23.164269  \n",
              "soil        -8.207115     -1.1025    -47.006907  "
            ],
            "text/html": [
              "\n",
              "  <div id=\"df-bc360106-01ad-4e22-8d17-ff4a103bb3aa\" class=\"colab-df-container\">\n",
              "    <div>\n",
              "<style scoped>\n",
              "    .dataframe tbody tr th:only-of-type {\n",
              "        vertical-align: middle;\n",
              "    }\n",
              "\n",
              "    .dataframe tbody tr th {\n",
              "        vertical-align: top;\n",
              "    }\n",
              "\n",
              "    .dataframe thead th {\n",
              "        text-align: right;\n",
              "    }\n",
              "</style>\n",
              "<table border=\"1\" class=\"dataframe\">\n",
              "  <thead>\n",
              "    <tr style=\"text-align: right;\">\n",
              "      <th></th>\n",
              "      <th>2024vs1993</th>\n",
              "      <th>2024vs1993pp</th>\n",
              "      <th>2004vs1993</th>\n",
              "      <th>2004vs1993pp</th>\n",
              "      <th>2014vs2004</th>\n",
              "      <th>2014vs2004pp</th>\n",
              "      <th>2024vs2014</th>\n",
              "      <th>2024vs2014pp</th>\n",
              "    </tr>\n",
              "  </thead>\n",
              "  <tbody>\n",
              "    <tr>\n",
              "      <th>forest</th>\n",
              "      <td>1.2852</td>\n",
              "      <td>15.406193</td>\n",
              "      <td>-1.9557</td>\n",
              "      <td>-23.443737</td>\n",
              "      <td>0.9045</td>\n",
              "      <td>14.162909</td>\n",
              "      <td>2.3364</td>\n",
              "      <td>32.045426</td>\n",
              "    </tr>\n",
              "    <tr>\n",
              "      <th>urban</th>\n",
              "      <td>11.6496</td>\n",
              "      <td>129.427057</td>\n",
              "      <td>6.2388</td>\n",
              "      <td>69.313069</td>\n",
              "      <td>2.0331</td>\n",
              "      <td>13.340814</td>\n",
              "      <td>3.3777</td>\n",
              "      <td>19.555023</td>\n",
              "    </tr>\n",
              "    <tr>\n",
              "      <th>pasture</th>\n",
              "      <td>-12.6036</td>\n",
              "      <td>-35.708093</td>\n",
              "      <td>-5.2938</td>\n",
              "      <td>-14.998215</td>\n",
              "      <td>-2.4228</td>\n",
              "      <td>-8.075354</td>\n",
              "      <td>-4.8870</td>\n",
              "      <td>-17.719619</td>\n",
              "    </tr>\n",
              "    <tr>\n",
              "      <th>water</th>\n",
              "      <td>0.5301</td>\n",
              "      <td>56.743738</td>\n",
              "      <td>0.5589</td>\n",
              "      <td>59.826590</td>\n",
              "      <td>-0.3042</td>\n",
              "      <td>-20.373719</td>\n",
              "      <td>0.2754</td>\n",
              "      <td>23.164269</td>\n",
              "    </tr>\n",
              "    <tr>\n",
              "      <th>soil</th>\n",
              "      <td>-0.8613</td>\n",
              "      <td>-40.932421</td>\n",
              "      <td>0.4509</td>\n",
              "      <td>21.428571</td>\n",
              "      <td>-0.2097</td>\n",
              "      <td>-8.207115</td>\n",
              "      <td>-1.1025</td>\n",
              "      <td>-47.006907</td>\n",
              "    </tr>\n",
              "  </tbody>\n",
              "</table>\n",
              "</div>\n",
              "    <div class=\"colab-df-buttons\">\n",
              "\n",
              "  <div class=\"colab-df-container\">\n",
              "    <button class=\"colab-df-convert\" onclick=\"convertToInteractive('df-bc360106-01ad-4e22-8d17-ff4a103bb3aa')\"\n",
              "            title=\"Convert this dataframe to an interactive table.\"\n",
              "            style=\"display:none;\">\n",
              "\n",
              "  <svg xmlns=\"http://www.w3.org/2000/svg\" height=\"24px\" viewBox=\"0 -960 960 960\">\n",
              "    <path d=\"M120-120v-720h720v720H120Zm60-500h600v-160H180v160Zm220 220h160v-160H400v160Zm0 220h160v-160H400v160ZM180-400h160v-160H180v160Zm440 0h160v-160H620v160ZM180-180h160v-160H180v160Zm440 0h160v-160H620v160Z\"/>\n",
              "  </svg>\n",
              "    </button>\n",
              "\n",
              "  <style>\n",
              "    .colab-df-container {\n",
              "      display:flex;\n",
              "      gap: 12px;\n",
              "    }\n",
              "\n",
              "    .colab-df-convert {\n",
              "      background-color: #E8F0FE;\n",
              "      border: none;\n",
              "      border-radius: 50%;\n",
              "      cursor: pointer;\n",
              "      display: none;\n",
              "      fill: #1967D2;\n",
              "      height: 32px;\n",
              "      padding: 0 0 0 0;\n",
              "      width: 32px;\n",
              "    }\n",
              "\n",
              "    .colab-df-convert:hover {\n",
              "      background-color: #E2EBFA;\n",
              "      box-shadow: 0px 1px 2px rgba(60, 64, 67, 0.3), 0px 1px 3px 1px rgba(60, 64, 67, 0.15);\n",
              "      fill: #174EA6;\n",
              "    }\n",
              "\n",
              "    .colab-df-buttons div {\n",
              "      margin-bottom: 4px;\n",
              "    }\n",
              "\n",
              "    [theme=dark] .colab-df-convert {\n",
              "      background-color: #3B4455;\n",
              "      fill: #D2E3FC;\n",
              "    }\n",
              "\n",
              "    [theme=dark] .colab-df-convert:hover {\n",
              "      background-color: #434B5C;\n",
              "      box-shadow: 0px 1px 3px 1px rgba(0, 0, 0, 0.15);\n",
              "      filter: drop-shadow(0px 1px 2px rgba(0, 0, 0, 0.3));\n",
              "      fill: #FFFFFF;\n",
              "    }\n",
              "  </style>\n",
              "\n",
              "    <script>\n",
              "      const buttonEl =\n",
              "        document.querySelector('#df-bc360106-01ad-4e22-8d17-ff4a103bb3aa button.colab-df-convert');\n",
              "      buttonEl.style.display =\n",
              "        google.colab.kernel.accessAllowed ? 'block' : 'none';\n",
              "\n",
              "      async function convertToInteractive(key) {\n",
              "        const element = document.querySelector('#df-bc360106-01ad-4e22-8d17-ff4a103bb3aa');\n",
              "        const dataTable =\n",
              "          await google.colab.kernel.invokeFunction('convertToInteractive',\n",
              "                                                    [key], {});\n",
              "        if (!dataTable) return;\n",
              "\n",
              "        const docLinkHtml = 'Like what you see? Visit the ' +\n",
              "          '<a target=\"_blank\" href=https://colab.research.google.com/notebooks/data_table.ipynb>data table notebook</a>'\n",
              "          + ' to learn more about interactive tables.';\n",
              "        element.innerHTML = '';\n",
              "        dataTable['output_type'] = 'display_data';\n",
              "        await google.colab.output.renderOutput(dataTable, element);\n",
              "        const docLink = document.createElement('div');\n",
              "        docLink.innerHTML = docLinkHtml;\n",
              "        element.appendChild(docLink);\n",
              "      }\n",
              "    </script>\n",
              "  </div>\n",
              "\n",
              "\n",
              "<div id=\"df-2b9ec766-ee0a-487a-9b14-a469dd2338ca\">\n",
              "  <button class=\"colab-df-quickchart\" onclick=\"quickchart('df-2b9ec766-ee0a-487a-9b14-a469dd2338ca')\"\n",
              "            title=\"Suggest charts\"\n",
              "            style=\"display:none;\">\n",
              "\n",
              "<svg xmlns=\"http://www.w3.org/2000/svg\" height=\"24px\"viewBox=\"0 0 24 24\"\n",
              "     width=\"24px\">\n",
              "    <g>\n",
              "        <path d=\"M19 3H5c-1.1 0-2 .9-2 2v14c0 1.1.9 2 2 2h14c1.1 0 2-.9 2-2V5c0-1.1-.9-2-2-2zM9 17H7v-7h2v7zm4 0h-2V7h2v10zm4 0h-2v-4h2v4z\"/>\n",
              "    </g>\n",
              "</svg>\n",
              "  </button>\n",
              "\n",
              "<style>\n",
              "  .colab-df-quickchart {\n",
              "      --bg-color: #E8F0FE;\n",
              "      --fill-color: #1967D2;\n",
              "      --hover-bg-color: #E2EBFA;\n",
              "      --hover-fill-color: #174EA6;\n",
              "      --disabled-fill-color: #AAA;\n",
              "      --disabled-bg-color: #DDD;\n",
              "  }\n",
              "\n",
              "  [theme=dark] .colab-df-quickchart {\n",
              "      --bg-color: #3B4455;\n",
              "      --fill-color: #D2E3FC;\n",
              "      --hover-bg-color: #434B5C;\n",
              "      --hover-fill-color: #FFFFFF;\n",
              "      --disabled-bg-color: #3B4455;\n",
              "      --disabled-fill-color: #666;\n",
              "  }\n",
              "\n",
              "  .colab-df-quickchart {\n",
              "    background-color: var(--bg-color);\n",
              "    border: none;\n",
              "    border-radius: 50%;\n",
              "    cursor: pointer;\n",
              "    display: none;\n",
              "    fill: var(--fill-color);\n",
              "    height: 32px;\n",
              "    padding: 0;\n",
              "    width: 32px;\n",
              "  }\n",
              "\n",
              "  .colab-df-quickchart:hover {\n",
              "    background-color: var(--hover-bg-color);\n",
              "    box-shadow: 0 1px 2px rgba(60, 64, 67, 0.3), 0 1px 3px 1px rgba(60, 64, 67, 0.15);\n",
              "    fill: var(--button-hover-fill-color);\n",
              "  }\n",
              "\n",
              "  .colab-df-quickchart-complete:disabled,\n",
              "  .colab-df-quickchart-complete:disabled:hover {\n",
              "    background-color: var(--disabled-bg-color);\n",
              "    fill: var(--disabled-fill-color);\n",
              "    box-shadow: none;\n",
              "  }\n",
              "\n",
              "  .colab-df-spinner {\n",
              "    border: 2px solid var(--fill-color);\n",
              "    border-color: transparent;\n",
              "    border-bottom-color: var(--fill-color);\n",
              "    animation:\n",
              "      spin 1s steps(1) infinite;\n",
              "  }\n",
              "\n",
              "  @keyframes spin {\n",
              "    0% {\n",
              "      border-color: transparent;\n",
              "      border-bottom-color: var(--fill-color);\n",
              "      border-left-color: var(--fill-color);\n",
              "    }\n",
              "    20% {\n",
              "      border-color: transparent;\n",
              "      border-left-color: var(--fill-color);\n",
              "      border-top-color: var(--fill-color);\n",
              "    }\n",
              "    30% {\n",
              "      border-color: transparent;\n",
              "      border-left-color: var(--fill-color);\n",
              "      border-top-color: var(--fill-color);\n",
              "      border-right-color: var(--fill-color);\n",
              "    }\n",
              "    40% {\n",
              "      border-color: transparent;\n",
              "      border-right-color: var(--fill-color);\n",
              "      border-top-color: var(--fill-color);\n",
              "    }\n",
              "    60% {\n",
              "      border-color: transparent;\n",
              "      border-right-color: var(--fill-color);\n",
              "    }\n",
              "    80% {\n",
              "      border-color: transparent;\n",
              "      border-right-color: var(--fill-color);\n",
              "      border-bottom-color: var(--fill-color);\n",
              "    }\n",
              "    90% {\n",
              "      border-color: transparent;\n",
              "      border-bottom-color: var(--fill-color);\n",
              "    }\n",
              "  }\n",
              "</style>\n",
              "\n",
              "  <script>\n",
              "    async function quickchart(key) {\n",
              "      const quickchartButtonEl =\n",
              "        document.querySelector('#' + key + ' button');\n",
              "      quickchartButtonEl.disabled = true;  // To prevent multiple clicks.\n",
              "      quickchartButtonEl.classList.add('colab-df-spinner');\n",
              "      try {\n",
              "        const charts = await google.colab.kernel.invokeFunction(\n",
              "            'suggestCharts', [key], {});\n",
              "      } catch (error) {\n",
              "        console.error('Error during call to suggestCharts:', error);\n",
              "      }\n",
              "      quickchartButtonEl.classList.remove('colab-df-spinner');\n",
              "      quickchartButtonEl.classList.add('colab-df-quickchart-complete');\n",
              "    }\n",
              "    (() => {\n",
              "      let quickchartButtonEl =\n",
              "        document.querySelector('#df-2b9ec766-ee0a-487a-9b14-a469dd2338ca button');\n",
              "      quickchartButtonEl.style.display =\n",
              "        google.colab.kernel.accessAllowed ? 'block' : 'none';\n",
              "    })();\n",
              "  </script>\n",
              "</div>\n",
              "\n",
              "  <div id=\"id_f410b7e7-5401-41a9-be25-0e3652ddcff1\">\n",
              "    <style>\n",
              "      .colab-df-generate {\n",
              "        background-color: #E8F0FE;\n",
              "        border: none;\n",
              "        border-radius: 50%;\n",
              "        cursor: pointer;\n",
              "        display: none;\n",
              "        fill: #1967D2;\n",
              "        height: 32px;\n",
              "        padding: 0 0 0 0;\n",
              "        width: 32px;\n",
              "      }\n",
              "\n",
              "      .colab-df-generate:hover {\n",
              "        background-color: #E2EBFA;\n",
              "        box-shadow: 0px 1px 2px rgba(60, 64, 67, 0.3), 0px 1px 3px 1px rgba(60, 64, 67, 0.15);\n",
              "        fill: #174EA6;\n",
              "      }\n",
              "\n",
              "      [theme=dark] .colab-df-generate {\n",
              "        background-color: #3B4455;\n",
              "        fill: #D2E3FC;\n",
              "      }\n",
              "\n",
              "      [theme=dark] .colab-df-generate:hover {\n",
              "        background-color: #434B5C;\n",
              "        box-shadow: 0px 1px 3px 1px rgba(0, 0, 0, 0.15);\n",
              "        filter: drop-shadow(0px 1px 2px rgba(0, 0, 0, 0.3));\n",
              "        fill: #FFFFFF;\n",
              "      }\n",
              "    </style>\n",
              "    <button class=\"colab-df-generate\" onclick=\"generateWithVariable('dadosDiferenca')\"\n",
              "            title=\"Generate code using this dataframe.\"\n",
              "            style=\"display:none;\">\n",
              "\n",
              "  <svg xmlns=\"http://www.w3.org/2000/svg\" height=\"24px\"viewBox=\"0 0 24 24\"\n",
              "       width=\"24px\">\n",
              "    <path d=\"M7,19H8.4L18.45,9,17,7.55,7,17.6ZM5,21V16.75L18.45,3.32a2,2,0,0,1,2.83,0l1.4,1.43a1.91,1.91,0,0,1,.58,1.4,1.91,1.91,0,0,1-.58,1.4L9.25,21ZM18.45,9,17,7.55Zm-12,3A5.31,5.31,0,0,0,4.9,8.1,5.31,5.31,0,0,0,1,6.5,5.31,5.31,0,0,0,4.9,4.9,5.31,5.31,0,0,0,6.5,1,5.31,5.31,0,0,0,8.1,4.9,5.31,5.31,0,0,0,12,6.5,5.46,5.46,0,0,0,6.5,12Z\"/>\n",
              "  </svg>\n",
              "    </button>\n",
              "    <script>\n",
              "      (() => {\n",
              "      const buttonEl =\n",
              "        document.querySelector('#id_f410b7e7-5401-41a9-be25-0e3652ddcff1 button.colab-df-generate');\n",
              "      buttonEl.style.display =\n",
              "        google.colab.kernel.accessAllowed ? 'block' : 'none';\n",
              "\n",
              "      buttonEl.onclick = () => {\n",
              "        google.colab.notebook.generateWithVariable('dadosDiferenca');\n",
              "      }\n",
              "      })();\n",
              "    </script>\n",
              "  </div>\n",
              "\n",
              "    </div>\n",
              "  </div>\n"
            ],
            "application/vnd.google.colaboratory.intrinsic+json": {
              "type": "dataframe",
              "variable_name": "dadosDiferenca",
              "summary": "{\n  \"name\": \"dadosDiferenca\",\n  \"rows\": 5,\n  \"fields\": [\n    {\n      \"column\": \"2024vs1993\",\n      \"properties\": {\n        \"dtype\": \"number\",\n        \"std\": 8.620303008894602,\n        \"min\": -12.603600000020379,\n        \"max\": 11.649600000005021,\n        \"num_unique_values\": 5,\n        \"samples\": [\n          11.649600000005021,\n          -0.8612999999999307,\n          -12.603600000020379\n        ],\n        \"semantic_type\": \"\",\n        \"description\": \"\"\n      }\n    },\n    {\n      \"column\": \"2024vs1993pp\",\n      \"properties\": {\n        \"dtype\": \"number\",\n        \"std\": 70.77653606807954,\n        \"min\": -40.93242087253899,\n        \"max\": 129.42705729434948,\n        \"num_unique_values\": 5,\n        \"samples\": [\n          129.42705729434948,\n          -40.93242087253899,\n          -35.7080932225302\n        ],\n        \"semantic_type\": \"\",\n        \"description\": \"\"\n      }\n    },\n    {\n      \"column\": \"2004vs1993\",\n      \"properties\": {\n        \"dtype\": \"number\",\n        \"std\": 4.2215928933300795,\n        \"min\": -5.293800000008559,\n        \"max\": 6.238799999997774,\n        \"num_unique_values\": 5,\n        \"samples\": [\n          6.238799999997774,\n          0.4509000000000616,\n          -5.293800000008559\n        ],\n        \"semantic_type\": \"\",\n        \"description\": \"\"\n      }\n    },\n    {\n      \"column\": \"2004vs1993pp\",\n      \"properties\": {\n        \"dtype\": \"number\",\n        \"std\": 42.13905800942579,\n        \"min\": -23.443737188473225,\n        \"max\": 69.31306869311835,\n        \"num_unique_values\": 5,\n        \"samples\": [\n          69.31306869311835,\n          21.428571428575218,\n          -14.998215105321522\n        ],\n        \"semantic_type\": \"\",\n        \"description\": \"\"\n      }\n    },\n    {\n      \"column\": \"2014vs2004\",\n      \"properties\": {\n        \"dtype\": \"number\",\n        \"std\": 1.6551500889666815,\n        \"min\": -2.4228000000039174,\n        \"max\": 2.0331000000017863,\n        \"num_unique_values\": 5,\n        \"samples\": [\n          2.0331000000017863,\n          -0.20970000000002864,\n          -2.4228000000039174\n        ],\n        \"semantic_type\": \"\",\n        \"description\": \"\"\n      }\n    },\n    {\n      \"column\": \"2014vs2004pp\",\n      \"properties\": {\n        \"dtype\": \"number\",\n        \"std\": 15.078695904335422,\n        \"min\": -20.37371910789466,\n        \"max\": 14.162908680943453,\n        \"num_unique_values\": 5,\n        \"samples\": [\n          13.340813795562244,\n          -8.207115181403102,\n          -8.075353971690335\n        ],\n        \"semantic_type\": \"\",\n        \"description\": \"\"\n      }\n    },\n    {\n      \"column\": \"2024vs2014\",\n      \"properties\": {\n        \"dtype\": \"number\",\n        \"std\": 3.2419802073775115,\n        \"min\": -4.887000000007902,\n        \"max\": 3.3777000000054613,\n        \"num_unique_values\": 5,\n        \"samples\": [\n          3.3777000000054613,\n          -1.1024999999999636,\n          -4.887000000007902\n        ],\n        \"semantic_type\": \"\",\n        \"description\": \"\"\n      }\n    },\n    {\n      \"column\": \"2024vs2014pp\",\n      \"properties\": {\n        \"dtype\": \"number\",\n        \"std\": 33.351809580123025,\n        \"min\": -47.006907137374775,\n        \"max\": 32.04542649054969,\n        \"num_unique_values\": 5,\n        \"samples\": [\n          19.555022926253194,\n          -47.006907137374775,\n          -17.719618848733532\n        ],\n        \"semantic_type\": \"\",\n        \"description\": \"\"\n      }\n    }\n  ]\n}"
            }
          },
          "metadata": {},
          "execution_count": 47
        }
      ]
    }
  ]
}